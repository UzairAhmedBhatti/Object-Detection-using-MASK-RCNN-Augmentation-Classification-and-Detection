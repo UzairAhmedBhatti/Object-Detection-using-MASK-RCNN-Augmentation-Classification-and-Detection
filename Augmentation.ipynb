{
 "cells": [
  {
   "cell_type": "code",
   "execution_count": 1,
   "metadata": {},
   "outputs": [],
   "source": [
    "from matplotlib import pyplot as plt\n",
    "from clodsa.augmentors.augmentorFactory import createAugmentor\n",
    "from clodsa.transformers.transformerFactory import transformerGenerator\n",
    "from clodsa.techniques.techniqueFactory import createTechnique\n",
    "import cv2\n",
    "%matplotlib inline"
   ]
  },
  {
   "cell_type": "code",
   "execution_count": 3,
   "metadata": {},
   "outputs": [],
   "source": [
    "PROBLEM = \"instance_segmentation\"\n",
    "ANNOTATION_MODE = \"coco\"\n",
    "INPUT_PATH = \"c:/Users/Uzair/Desktop/coco-annotator/datasets/Pakistani_CNIC\"\n",
    "GENERATION_MODE = \"linear\"\n",
    "OUTPUT_MODE = \"coco\"\n",
    "OUTPUT_PATH= \"c:/Users/Uzair/Desktop/coco-annotator/datasets/Pakistani_CNIC/newOutput/\""
   ]
  },
  {
   "cell_type": "code",
   "execution_count": null,
   "metadata": {},
   "outputs": [],
   "source": [
    "#PROBLEM = \"instance_segmentation\"\n",
    "#ANNOTATION_MODE = \"coco\"\n",
    "#INPUT_PATH = \"c:/Users/Uzair/Desktop/coco-annotator/datasets/testingCanadianPassport\"\n",
    "#GENERATION_MODE = \"linear\"\n",
    "#OUTPUT_MODE = \"coco\"\n",
    "#OUTPUT_PATH= \"c:/Users/Uzair/Desktop/coco-annotator/datasets/testingCanadianPassport/output/\""
   ]
  },
  {
   "cell_type": "code",
   "execution_count": 4,
   "metadata": {},
   "outputs": [],
   "source": [
    "augmentor = createAugmentor(PROBLEM,ANNOTATION_MODE,OUTPUT_MODE,GENERATION_MODE,INPUT_PATH,{\"outputPath\":OUTPUT_PATH})"
   ]
  },
  {
   "cell_type": "code",
   "execution_count": 5,
   "metadata": {},
   "outputs": [],
   "source": [
    "transformer = transformerGenerator(PROBLEM)"
   ]
  },
  {
   "cell_type": "code",
   "execution_count": null,
   "metadata": {},
   "outputs": [],
   "source": [
    "for angle in range(0,360,4):\n",
    "    rotate = createTechnique(\"rotate\", {\"angle\" : angle})\n",
    "    augmentor.addTransformer(transformer(rotate))"
   ]
  },
  {
   "cell_type": "code",
   "execution_count": 6,
   "metadata": {},
   "outputs": [],
   "source": [
    "#for angle in range(90,360,4):\n",
    "#    rotate = createTechnique(\"rotate\", {\"angle\" : angle})\n",
    "#    augmentor.addTransformer(transformer(rotate))"
   ]
  },
  {
   "cell_type": "code",
   "execution_count": 6,
   "metadata": {},
   "outputs": [],
   "source": [
    "flip = createTechnique(\"flip\",{\"flip\":1})\n",
    "augmentor.addTransformer(transformer(flip))"
   ]
  },
  {
   "cell_type": "code",
   "execution_count": 7,
   "metadata": {},
   "outputs": [],
   "source": [
    "augmentor.applyAugmentation()"
   ]
  }
 ],
 "metadata": {
  "kernelspec": {
   "display_name": "Python 3",
   "language": "python",
   "name": "python3"
  },
  "language_info": {
   "codemirror_mode": {
    "name": "ipython",
    "version": 3
   },
   "file_extension": ".py",
   "mimetype": "text/x-python",
   "name": "python",
   "nbconvert_exporter": "python",
   "pygments_lexer": "ipython3",
   "version": "3.7.3"
  }
 },
 "nbformat": 4,
 "nbformat_minor": 2
}
